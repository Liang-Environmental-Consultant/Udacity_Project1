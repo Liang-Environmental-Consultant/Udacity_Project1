{
 "cells": [
  {
   "cell_type": "markdown",
   "metadata": {},
   "source": [
    "# Project: Write a data science blog post"
   ]
  },
  {
   "cell_type": "markdown",
   "metadata": {},
   "source": [
    "## Table of Contents\n",
    "\n",
    "1. Bussiness understanding\n",
    "2. Data understanding\n",
    "3. Data preparation\n",
    "4. Modeling\n",
    "5. Evaluation"
   ]
  },
  {
   "cell_type": "markdown",
   "metadata": {},
   "source": [
    "## 1. Business understanding\n",
    "\n",
    "Dissolved oxygen in water is important and finding parameters influencing the dissolved oxygen (DO) concentration can establish a healthy aquatic community. Paramters may influence DO include salinity, water temperature, total nitrogen, total phosphorus, and chlorophyll-a. In this study, data including DO, salinity, water temperature, total nitrogen, total phosphorus, and chlorophyll-a from WBID 2189A were collected and the parameters affect dissolved oxygen were investigated through multiple linear regression model using Phython. With the dataset and modeling we weill try to understand the following: \n",
    "\n",
    "a. What parameters have great effects on DO in this waterbody?\n",
    "b. How do those parameters influence DO?\n",
    "c. Do the model results make sense?\n",
    "d. How to improve model performance to better interpret the relationship between DO and other parameters?\n"
   ]
  },
  {
   "cell_type": "markdown",
   "metadata": {},
   "source": [
    "## 2. Data understanding\n",
    "\n",
    "In this section, we will read data into python, understand the columns and rows of the dataframe and clean the dataframe for the modeling process. "
   ]
  },
  {
   "cell_type": "code",
   "execution_count": 2,
   "metadata": {},
   "outputs": [],
   "source": [
    "import numpy as np\n",
    "import pandas as pd\n",
    "import matplotlib.pyplot as plt\n",
    "from sklearn.linear_model import LinearRegression\n",
    "from sklearn.model_selection import train_test_split\n",
    "from sklearn.metrics import r2_score, mean_squared_error\n",
    "import seaborn as sns\n",
    "%matplotlib inline"
   ]
  },
  {
   "cell_type": "markdown",
   "metadata": {},
   "source": [
    "### Access"
   ]
  },
  {
   "cell_type": "code",
   "execution_count": 5,
   "metadata": {},
   "outputs": [
    {
     "data": {
      "text/html": [
       "<div>\n",
       "<style scoped>\n",
       "    .dataframe tbody tr th:only-of-type {\n",
       "        vertical-align: middle;\n",
       "    }\n",
       "\n",
       "    .dataframe tbody tr th {\n",
       "        vertical-align: top;\n",
       "    }\n",
       "\n",
       "    .dataframe thead th {\n",
       "        text-align: right;\n",
       "    }\n",
       "</style>\n",
       "<table border=\"1\" class=\"dataframe\">\n",
       "  <thead>\n",
       "    <tr style=\"text-align: right;\">\n",
       "      <th></th>\n",
       "      <th>wbid</th>\n",
       "      <th>BODY</th>\n",
       "      <th>rawData_periodOfRecordQuery.class</th>\n",
       "      <th>NAME1</th>\n",
       "      <th>BASIN</th>\n",
       "      <th>sta</th>\n",
       "      <th>LAT</th>\n",
       "      <th>LONG</th>\n",
       "      <th>Year</th>\n",
       "      <th>Month</th>\n",
       "      <th>...</th>\n",
       "      <th>xCode</th>\n",
       "      <th>dUnits2</th>\n",
       "      <th>agency</th>\n",
       "      <th>labName</th>\n",
       "      <th>masterCode2</th>\n",
       "      <th>floridaStandards_forMatching.class</th>\n",
       "      <th>thisCriteria</th>\n",
       "      <th>floridaStandards_forMatching.Units</th>\n",
       "      <th>standardWithUnits</th>\n",
       "      <th>criterionText</th>\n",
       "    </tr>\n",
       "  </thead>\n",
       "  <tbody>\n",
       "    <tr>\n",
       "      <td>0</td>\n",
       "      <td>2189A</td>\n",
       "      <td>STREAM</td>\n",
       "      <td>3F</td>\n",
       "      <td>RUSHING CR. TRIB @ HOLSTEIN DR</td>\n",
       "      <td>RUSHING BRANCH (FRESHWATER SEGMENT)</td>\n",
       "      <td>21FLA   20030603</td>\n",
       "      <td>30.458707</td>\n",
       "      <td>-81.566378</td>\n",
       "      <td>2012</td>\n",
       "      <td>9</td>\n",
       "      <td>...</td>\n",
       "      <td>NaN</td>\n",
       "      <td>m</td>\n",
       "      <td>21FLA</td>\n",
       "      <td>NaN</td>\n",
       "      <td>NaN</td>\n",
       "      <td>NaN</td>\n",
       "      <td>NaN</td>\n",
       "      <td>NaN</td>\n",
       "      <td>NaN</td>\n",
       "      <td>NaN</td>\n",
       "    </tr>\n",
       "    <tr>\n",
       "      <td>1</td>\n",
       "      <td>2189A</td>\n",
       "      <td>STREAM</td>\n",
       "      <td>3F</td>\n",
       "      <td>RUSHING CR. TRIB @ HOLSTEIN DR</td>\n",
       "      <td>RUSHING BRANCH (FRESHWATER SEGMENT)</td>\n",
       "      <td>21FLA   20030603</td>\n",
       "      <td>30.458707</td>\n",
       "      <td>-81.566378</td>\n",
       "      <td>2012</td>\n",
       "      <td>9</td>\n",
       "      <td>...</td>\n",
       "      <td>NaN</td>\n",
       "      <td>m</td>\n",
       "      <td>21FLA</td>\n",
       "      <td>NaN</td>\n",
       "      <td>COND</td>\n",
       "      <td>3F</td>\n",
       "      <td>1275.0</td>\n",
       "      <td>uohm/cm</td>\n",
       "      <td>1275 or &gt;50% Nat. Background</td>\n",
       "      <td>Criterion from the Florida Standards for this ...</td>\n",
       "    </tr>\n",
       "    <tr>\n",
       "      <td>2</td>\n",
       "      <td>2189A</td>\n",
       "      <td>STREAM</td>\n",
       "      <td>3F</td>\n",
       "      <td>RUSHING CR. TRIB @ HOLSTEIN DR</td>\n",
       "      <td>RUSHING BRANCH (FRESHWATER SEGMENT)</td>\n",
       "      <td>21FLA   20030603</td>\n",
       "      <td>30.458707</td>\n",
       "      <td>-81.566378</td>\n",
       "      <td>2012</td>\n",
       "      <td>9</td>\n",
       "      <td>...</td>\n",
       "      <td>NaN</td>\n",
       "      <td>m</td>\n",
       "      <td>21FLA</td>\n",
       "      <td>NaN</td>\n",
       "      <td>NaN</td>\n",
       "      <td>NaN</td>\n",
       "      <td>NaN</td>\n",
       "      <td>NaN</td>\n",
       "      <td>NaN</td>\n",
       "      <td>NaN</td>\n",
       "    </tr>\n",
       "    <tr>\n",
       "      <td>3</td>\n",
       "      <td>2189A</td>\n",
       "      <td>STREAM</td>\n",
       "      <td>3F</td>\n",
       "      <td>RUSHING CR. TRIB @ HOLSTEIN DR</td>\n",
       "      <td>RUSHING BRANCH (FRESHWATER SEGMENT)</td>\n",
       "      <td>21FLA   20030603</td>\n",
       "      <td>30.458707</td>\n",
       "      <td>-81.566378</td>\n",
       "      <td>2012</td>\n",
       "      <td>9</td>\n",
       "      <td>...</td>\n",
       "      <td>NaN</td>\n",
       "      <td>m</td>\n",
       "      <td>21FLA</td>\n",
       "      <td>NaN</td>\n",
       "      <td>NaN</td>\n",
       "      <td>NaN</td>\n",
       "      <td>NaN</td>\n",
       "      <td>NaN</td>\n",
       "      <td>NaN</td>\n",
       "      <td>NaN</td>\n",
       "    </tr>\n",
       "    <tr>\n",
       "      <td>4</td>\n",
       "      <td>2189A</td>\n",
       "      <td>STREAM</td>\n",
       "      <td>3F</td>\n",
       "      <td>RUSHING CR. TRIB @ HOLSTEIN DR</td>\n",
       "      <td>RUSHING BRANCH (FRESHWATER SEGMENT)</td>\n",
       "      <td>21FLA   20030603</td>\n",
       "      <td>30.458707</td>\n",
       "      <td>-81.566378</td>\n",
       "      <td>2012</td>\n",
       "      <td>9</td>\n",
       "      <td>...</td>\n",
       "      <td>B</td>\n",
       "      <td>m</td>\n",
       "      <td>21FLA</td>\n",
       "      <td>Columbia Analytical Services</td>\n",
       "      <td>FCOLI</td>\n",
       "      <td>3F</td>\n",
       "      <td>400.0</td>\n",
       "      <td>100ml</td>\n",
       "      <td>=400 MPN</td>\n",
       "      <td>Criterion from the Florida Standards for this ...</td>\n",
       "    </tr>\n",
       "  </tbody>\n",
       "</table>\n",
       "<p>5 rows × 51 columns</p>\n",
       "</div>"
      ],
      "text/plain": [
       "    wbid    BODY rawData_periodOfRecordQuery.class  \\\n",
       "0  2189A  STREAM                                3F   \n",
       "1  2189A  STREAM                                3F   \n",
       "2  2189A  STREAM                                3F   \n",
       "3  2189A  STREAM                                3F   \n",
       "4  2189A  STREAM                                3F   \n",
       "\n",
       "                            NAME1                                BASIN  \\\n",
       "0  RUSHING CR. TRIB @ HOLSTEIN DR  RUSHING BRANCH (FRESHWATER SEGMENT)   \n",
       "1  RUSHING CR. TRIB @ HOLSTEIN DR  RUSHING BRANCH (FRESHWATER SEGMENT)   \n",
       "2  RUSHING CR. TRIB @ HOLSTEIN DR  RUSHING BRANCH (FRESHWATER SEGMENT)   \n",
       "3  RUSHING CR. TRIB @ HOLSTEIN DR  RUSHING BRANCH (FRESHWATER SEGMENT)   \n",
       "4  RUSHING CR. TRIB @ HOLSTEIN DR  RUSHING BRANCH (FRESHWATER SEGMENT)   \n",
       "\n",
       "                sta        LAT       LONG  Year  Month  ...  xCode  dUnits2  \\\n",
       "0  21FLA   20030603  30.458707 -81.566378  2012      9  ...    NaN        m   \n",
       "1  21FLA   20030603  30.458707 -81.566378  2012      9  ...    NaN        m   \n",
       "2  21FLA   20030603  30.458707 -81.566378  2012      9  ...    NaN        m   \n",
       "3  21FLA   20030603  30.458707 -81.566378  2012      9  ...    NaN        m   \n",
       "4  21FLA   20030603  30.458707 -81.566378  2012      9  ...      B        m   \n",
       "\n",
       "     agency                       labName  masterCode2  \\\n",
       "0  21FLA                              NaN          NaN   \n",
       "1  21FLA                              NaN         COND   \n",
       "2  21FLA                              NaN          NaN   \n",
       "3  21FLA                              NaN          NaN   \n",
       "4  21FLA     Columbia Analytical Services        FCOLI   \n",
       "\n",
       "   floridaStandards_forMatching.class thisCriteria  \\\n",
       "0                                 NaN          NaN   \n",
       "1                                  3F       1275.0   \n",
       "2                                 NaN          NaN   \n",
       "3                                 NaN          NaN   \n",
       "4                                  3F        400.0   \n",
       "\n",
       "  floridaStandards_forMatching.Units             standardWithUnits  \\\n",
       "0                                NaN                           NaN   \n",
       "1                            uohm/cm  1275 or >50% Nat. Background   \n",
       "2                                NaN                           NaN   \n",
       "3                                NaN                           NaN   \n",
       "4                              100ml                      =400 MPN   \n",
       "\n",
       "                                       criterionText  \n",
       "0                                                NaN  \n",
       "1  Criterion from the Florida Standards for this ...  \n",
       "2                                                NaN  \n",
       "3                                                NaN  \n",
       "4  Criterion from the Florida Standards for this ...  \n",
       "\n",
       "[5 rows x 51 columns]"
      ]
     },
     "execution_count": 5,
     "metadata": {},
     "output_type": "execute_result"
    }
   ],
   "source": [
    "# read raw data into python\n",
    "\n",
    "df = pd.read_excel('C:/Users/lilia/Desktop/Udacity/Project_1/Data.xlsx')\n",
    "df.head()"
   ]
  },
  {
   "cell_type": "code",
   "execution_count": 9,
   "metadata": {},
   "outputs": [
    {
     "data": {
      "text/plain": [
       "(1094, 51)"
      ]
     },
     "execution_count": 9,
     "metadata": {},
     "output_type": "execute_result"
    }
   ],
   "source": [
    "df.shape"
   ]
  },
  {
   "cell_type": "code",
   "execution_count": 6,
   "metadata": {},
   "outputs": [
    {
     "name": "stdout",
     "output_type": "stream",
     "text": [
      "Index(['wbid', 'BODY', 'rawData_periodOfRecordQuery.class', 'NAME1', 'BASIN',\n",
      "       'sta', 'LAT', 'LONG', 'Year', 'Month', 'Day', 'Time', 'ID', 'depth',\n",
      "       'param', 'result', 'rawData_periodOfRecordQuery.Units', 'rcode', 'lab',\n",
      "       'GROUP_NAME', 'GROUP_NUM', 'PLANUNIT', 'description', 'epa', 'week2',\n",
      "       'season', 'ds', 'Master parameter Code', 'subcategory',\n",
      "       'Master parameter', 'cycle', 'begin_pp', 'end_pp', 'begin_vp', 'end_vp',\n",
      "       'mdl', 'pql', 'staName', 'planPeriod', 'verPeriod', 'assessmentType',\n",
      "       'xCode', 'dUnits2', 'agency', 'labName', 'masterCode2',\n",
      "       'floridaStandards_forMatching.class', 'thisCriteria',\n",
      "       'floridaStandards_forMatching.Units', 'standardWithUnits',\n",
      "       'criterionText'],\n",
      "      dtype='object')\n"
     ]
    }
   ],
   "source": [
    "# Check what columns are there in the dataframe\n",
    "print(df.columns)"
   ]
  },
  {
   "cell_type": "code",
   "execution_count": 7,
   "metadata": {},
   "outputs": [
    {
     "data": {
      "text/html": [
       "<div>\n",
       "<style scoped>\n",
       "    .dataframe tbody tr th:only-of-type {\n",
       "        vertical-align: middle;\n",
       "    }\n",
       "\n",
       "    .dataframe tbody tr th {\n",
       "        vertical-align: top;\n",
       "    }\n",
       "\n",
       "    .dataframe thead th {\n",
       "        text-align: right;\n",
       "    }\n",
       "</style>\n",
       "<table border=\"1\" class=\"dataframe\">\n",
       "  <thead>\n",
       "    <tr style=\"text-align: right;\">\n",
       "      <th></th>\n",
       "      <th>LAT</th>\n",
       "      <th>LONG</th>\n",
       "      <th>Year</th>\n",
       "      <th>Month</th>\n",
       "      <th>Day</th>\n",
       "      <th>Time</th>\n",
       "      <th>depth</th>\n",
       "      <th>param</th>\n",
       "      <th>result</th>\n",
       "      <th>lab</th>\n",
       "      <th>week2</th>\n",
       "      <th>season</th>\n",
       "      <th>cycle</th>\n",
       "      <th>mdl</th>\n",
       "      <th>pql</th>\n",
       "      <th>thisCriteria</th>\n",
       "    </tr>\n",
       "  </thead>\n",
       "  <tbody>\n",
       "    <tr>\n",
       "      <td>count</td>\n",
       "      <td>1094.000000</td>\n",
       "      <td>1094.000000</td>\n",
       "      <td>1094.000000</td>\n",
       "      <td>1094.000000</td>\n",
       "      <td>1094.000000</td>\n",
       "      <td>1094.000000</td>\n",
       "      <td>1094.000000</td>\n",
       "      <td>1094.000000</td>\n",
       "      <td>1094.000000</td>\n",
       "      <td>398.000000</td>\n",
       "      <td>1094.000000</td>\n",
       "      <td>1094.000000</td>\n",
       "      <td>1094.0</td>\n",
       "      <td>354.000000</td>\n",
       "      <td>328.000000</td>\n",
       "      <td>243.000000</td>\n",
       "    </tr>\n",
       "    <tr>\n",
       "      <td>mean</td>\n",
       "      <td>30.460613</td>\n",
       "      <td>-81.566860</td>\n",
       "      <td>2012.231261</td>\n",
       "      <td>5.392139</td>\n",
       "      <td>19.544790</td>\n",
       "      <td>1043.392139</td>\n",
       "      <td>0.131563</td>\n",
       "      <td>13444.493601</td>\n",
       "      <td>187.205848</td>\n",
       "      <td>3.208543</td>\n",
       "      <td>4806.999086</td>\n",
       "      <td>2.112431</td>\n",
       "      <td>4.0</td>\n",
       "      <td>12.773509</td>\n",
       "      <td>12.496697</td>\n",
       "      <td>634.423621</td>\n",
       "    </tr>\n",
       "    <tr>\n",
       "      <td>std</td>\n",
       "      <td>0.002272</td>\n",
       "      <td>0.000558</td>\n",
       "      <td>3.610812</td>\n",
       "      <td>3.715004</td>\n",
       "      <td>6.429525</td>\n",
       "      <td>104.455889</td>\n",
       "      <td>0.068515</td>\n",
       "      <td>26086.143099</td>\n",
       "      <td>978.674927</td>\n",
       "      <td>3.257888</td>\n",
       "      <td>332.254861</td>\n",
       "      <td>1.225369</td>\n",
       "      <td>0.0</td>\n",
       "      <td>58.660962</td>\n",
       "      <td>59.468522</td>\n",
       "      <td>572.194421</td>\n",
       "    </tr>\n",
       "    <tr>\n",
       "      <td>min</td>\n",
       "      <td>30.457572</td>\n",
       "      <td>-81.568428</td>\n",
       "      <td>2007.000000</td>\n",
       "      <td>1.000000</td>\n",
       "      <td>4.000000</td>\n",
       "      <td>850.000000</td>\n",
       "      <td>0.020000</td>\n",
       "      <td>10.000000</td>\n",
       "      <td>0.000100</td>\n",
       "      <td>1.000000</td>\n",
       "      <td>4295.000000</td>\n",
       "      <td>1.000000</td>\n",
       "      <td>4.0</td>\n",
       "      <td>0.000100</td>\n",
       "      <td>0.000380</td>\n",
       "      <td>-20.000000</td>\n",
       "    </tr>\n",
       "    <tr>\n",
       "      <td>25%</td>\n",
       "      <td>30.458707</td>\n",
       "      <td>-81.567160</td>\n",
       "      <td>2008.000000</td>\n",
       "      <td>2.000000</td>\n",
       "      <td>17.000000</td>\n",
       "      <td>955.000000</td>\n",
       "      <td>0.090000</td>\n",
       "      <td>299.000000</td>\n",
       "      <td>0.200000</td>\n",
       "      <td>1.000000</td>\n",
       "      <td>4398.000000</td>\n",
       "      <td>1.000000</td>\n",
       "      <td>4.0</td>\n",
       "      <td>0.050000</td>\n",
       "      <td>0.100000</td>\n",
       "      <td>39.500000</td>\n",
       "    </tr>\n",
       "    <tr>\n",
       "      <td>50%</td>\n",
       "      <td>30.458707</td>\n",
       "      <td>-81.567160</td>\n",
       "      <td>2013.000000</td>\n",
       "      <td>4.000000</td>\n",
       "      <td>20.000000</td>\n",
       "      <td>1035.000000</td>\n",
       "      <td>0.100000</td>\n",
       "      <td>445.000000</td>\n",
       "      <td>6.600000</td>\n",
       "      <td>2.000000</td>\n",
       "      <td>4915.000000</td>\n",
       "      <td>2.000000</td>\n",
       "      <td>4.0</td>\n",
       "      <td>0.300000</td>\n",
       "      <td>1.000000</td>\n",
       "      <td>400.000000</td>\n",
       "    </tr>\n",
       "    <tr>\n",
       "      <td>75%</td>\n",
       "      <td>30.463108</td>\n",
       "      <td>-81.566378</td>\n",
       "      <td>2015.000000</td>\n",
       "      <td>9.000000</td>\n",
       "      <td>24.000000</td>\n",
       "      <td>1101.000000</td>\n",
       "      <td>0.200000</td>\n",
       "      <td>1111.500000</td>\n",
       "      <td>47.000000</td>\n",
       "      <td>2.000000</td>\n",
       "      <td>5044.000000</td>\n",
       "      <td>3.000000</td>\n",
       "      <td>4.0</td>\n",
       "      <td>9.000000</td>\n",
       "      <td>8.250000</td>\n",
       "      <td>1275.000000</td>\n",
       "    </tr>\n",
       "    <tr>\n",
       "      <td>max</td>\n",
       "      <td>30.463108</td>\n",
       "      <td>-81.566378</td>\n",
       "      <td>2019.000000</td>\n",
       "      <td>12.000000</td>\n",
       "      <td>31.000000</td>\n",
       "      <td>1355.000000</td>\n",
       "      <td>0.350000</td>\n",
       "      <td>82903.000000</td>\n",
       "      <td>24000.000000</td>\n",
       "      <td>10.000000</td>\n",
       "      <td>5400.000000</td>\n",
       "      <td>4.000000</td>\n",
       "      <td>4.0</td>\n",
       "      <td>1000.000000</td>\n",
       "      <td>1000.000000</td>\n",
       "      <td>4300.000000</td>\n",
       "    </tr>\n",
       "  </tbody>\n",
       "</table>\n",
       "</div>"
      ],
      "text/plain": [
       "               LAT         LONG         Year        Month          Day  \\\n",
       "count  1094.000000  1094.000000  1094.000000  1094.000000  1094.000000   \n",
       "mean     30.460613   -81.566860  2012.231261     5.392139    19.544790   \n",
       "std       0.002272     0.000558     3.610812     3.715004     6.429525   \n",
       "min      30.457572   -81.568428  2007.000000     1.000000     4.000000   \n",
       "25%      30.458707   -81.567160  2008.000000     2.000000    17.000000   \n",
       "50%      30.458707   -81.567160  2013.000000     4.000000    20.000000   \n",
       "75%      30.463108   -81.566378  2015.000000     9.000000    24.000000   \n",
       "max      30.463108   -81.566378  2019.000000    12.000000    31.000000   \n",
       "\n",
       "              Time        depth         param        result         lab  \\\n",
       "count  1094.000000  1094.000000   1094.000000   1094.000000  398.000000   \n",
       "mean   1043.392139     0.131563  13444.493601    187.205848    3.208543   \n",
       "std     104.455889     0.068515  26086.143099    978.674927    3.257888   \n",
       "min     850.000000     0.020000     10.000000      0.000100    1.000000   \n",
       "25%     955.000000     0.090000    299.000000      0.200000    1.000000   \n",
       "50%    1035.000000     0.100000    445.000000      6.600000    2.000000   \n",
       "75%    1101.000000     0.200000   1111.500000     47.000000    2.000000   \n",
       "max    1355.000000     0.350000  82903.000000  24000.000000   10.000000   \n",
       "\n",
       "             week2       season   cycle          mdl          pql  \\\n",
       "count  1094.000000  1094.000000  1094.0   354.000000   328.000000   \n",
       "mean   4806.999086     2.112431     4.0    12.773509    12.496697   \n",
       "std     332.254861     1.225369     0.0    58.660962    59.468522   \n",
       "min    4295.000000     1.000000     4.0     0.000100     0.000380   \n",
       "25%    4398.000000     1.000000     4.0     0.050000     0.100000   \n",
       "50%    4915.000000     2.000000     4.0     0.300000     1.000000   \n",
       "75%    5044.000000     3.000000     4.0     9.000000     8.250000   \n",
       "max    5400.000000     4.000000     4.0  1000.000000  1000.000000   \n",
       "\n",
       "       thisCriteria  \n",
       "count    243.000000  \n",
       "mean     634.423621  \n",
       "std      572.194421  \n",
       "min      -20.000000  \n",
       "25%       39.500000  \n",
       "50%      400.000000  \n",
       "75%     1275.000000  \n",
       "max     4300.000000  "
      ]
     },
     "execution_count": 7,
     "metadata": {},
     "output_type": "execute_result"
    }
   ],
   "source": [
    "df.describe()"
   ]
  },
  {
   "cell_type": "markdown",
   "metadata": {},
   "source": [
    "## 3. Data preparation"
   ]
  },
  {
   "cell_type": "markdown",
   "metadata": {},
   "source": [
    "### Clean"
   ]
  },
  {
   "cell_type": "code",
   "execution_count": 10,
   "metadata": {},
   "outputs": [],
   "source": [
    "# Create a dataframe with selected columns\n",
    "\n",
    "dfs = df[df.columns[df.columns.isin(['ID','Year','Month','Day','result','Master parameter'])]]"
   ]
  },
  {
   "cell_type": "code",
   "execution_count": 11,
   "metadata": {},
   "outputs": [],
   "source": [
    "# Create dissolved oxygen (DO), chlorophyll-a (CHLAC), total phosphorus (TP), total nitrogen (TN), \n",
    "# temperature (TEMP), and salinity (SALIN) dataframes\n",
    "\n",
    "dfs_DO = dfs.loc[df['Master parameter Code']== 'DO']"
   ]
  },
  {
   "cell_type": "code",
   "execution_count": 12,
   "metadata": {
    "scrolled": true
   },
   "outputs": [],
   "source": [
    "dfs_CHLAC = dfs.loc[df['Master parameter Code']== 'CHLAC']"
   ]
  },
  {
   "cell_type": "code",
   "execution_count": 13,
   "metadata": {},
   "outputs": [],
   "source": [
    "dfs_TP = dfs.loc[df['Master parameter Code']== 'TP']"
   ]
  },
  {
   "cell_type": "code",
   "execution_count": 14,
   "metadata": {},
   "outputs": [],
   "source": [
    "dfs_TN = dfs.loc[df['Master parameter Code']== 'TN']"
   ]
  },
  {
   "cell_type": "code",
   "execution_count": 15,
   "metadata": {},
   "outputs": [],
   "source": [
    "dfs_TEMP = dfs.loc[df['Master parameter Code']== 'TEMP']"
   ]
  },
  {
   "cell_type": "code",
   "execution_count": 16,
   "metadata": {},
   "outputs": [],
   "source": [
    "dfs_SALIN = dfs.loc[df['Master parameter Code']== 'SALIN']"
   ]
  },
  {
   "cell_type": "code",
   "execution_count": 17,
   "metadata": {},
   "outputs": [],
   "source": [
    "# Join above dataframes together on column \"ID\" and create a new final dataframe: df_final\n",
    "\n",
    "dfs_DO_CHLAC = pd.merge(dfs_DO, dfs_CHLAC, on=['ID','Year','Month','Day'], how='outer', suffixes=('_DO','_CHLAC'))"
   ]
  },
  {
   "cell_type": "code",
   "execution_count": 18,
   "metadata": {},
   "outputs": [],
   "source": [
    "dfs_DO_CHLAC_TP = pd.merge(dfs_DO_CHLAC, dfs_TP, on = ['ID','Year','Month','Day'], how = 'outer')"
   ]
  },
  {
   "cell_type": "code",
   "execution_count": 19,
   "metadata": {},
   "outputs": [],
   "source": [
    "dfs_DO_CHLAC_TP_TN = pd.merge(dfs_DO_CHLAC_TP, dfs_TN, on = ['ID','Year','Month','Day'], how = 'outer', suffixes=('_TP','_TN'))"
   ]
  },
  {
   "cell_type": "code",
   "execution_count": 20,
   "metadata": {},
   "outputs": [],
   "source": [
    "dfs_DO_CHLAC_TP_TN_TEMP = pd.merge(dfs_DO_CHLAC_TP_TN, dfs_TEMP, on = ['ID','Year','Month','Day'], how = 'outer')"
   ]
  },
  {
   "cell_type": "code",
   "execution_count": 21,
   "metadata": {},
   "outputs": [],
   "source": [
    "df_final = pd.merge(dfs_DO_CHLAC_TP_TN_TEMP, dfs_SALIN, on = ['ID','Year','Month','Day'], how = 'outer', suffixes=('_TEMP','_SALIN'))"
   ]
  },
  {
   "cell_type": "code",
   "execution_count": 22,
   "metadata": {},
   "outputs": [],
   "source": [
    "df_final.to_excel(\"Final_050620.xlsx\")"
   ]
  },
  {
   "cell_type": "code",
   "execution_count": 23,
   "metadata": {},
   "outputs": [],
   "source": [
    "# Clean final dataframe: replace NA with mean value for the numeric columns\n",
    "\n",
    "df = df_final.dropna(subset=['result_DO'], axis=0)\n",
    "y=df['result_DO']"
   ]
  },
  {
   "cell_type": "code",
   "execution_count": 24,
   "metadata": {},
   "outputs": [
    {
     "name": "stderr",
     "output_type": "stream",
     "text": [
      "C:\\Users\\lilia\\Anaconda3\\lib\\site-packages\\pandas\\core\\generic.py:6287: SettingWithCopyWarning: \n",
      "A value is trying to be set on a copy of a slice from a DataFrame\n",
      "\n",
      "See the caveats in the documentation: http://pandas.pydata.org/pandas-docs/stable/user_guide/indexing.html#returning-a-view-versus-a-copy\n",
      "  self._update_inplace(new_data)\n"
     ]
    }
   ],
   "source": [
    "num_vars = df.select_dtypes(include=['float', 'int']).columns\n",
    "for col in num_vars:\n",
    "    df[col].fillna((df[col].mean()), inplace=True)"
   ]
  },
  {
   "cell_type": "markdown",
   "metadata": {},
   "source": [
    "## 4. Modeling"
   ]
  },
  {
   "cell_type": "markdown",
   "metadata": {},
   "source": [
    "### Analyze"
   ]
  },
  {
   "cell_type": "code",
   "execution_count": 25,
   "metadata": {},
   "outputs": [],
   "source": [
    "# Build a multiple linear regression model\n",
    "\n",
    "X = df[['result_CHLAC', 'result_TP', 'result_TN', 'result_TEMP', 'result_SALIN']]\n",
    "y = df['result_DO']"
   ]
  },
  {
   "cell_type": "code",
   "execution_count": 26,
   "metadata": {},
   "outputs": [
    {
     "data": {
      "text/plain": [
       "LinearRegression(copy_X=True, fit_intercept=True, n_jobs=None, normalize=True)"
      ]
     },
     "execution_count": 26,
     "metadata": {},
     "output_type": "execute_result"
    }
   ],
   "source": [
    "X_train, X_test, y_train, y_test = train_test_split(X, y, test_size = .30, random_state=42) \n",
    "lm_model = LinearRegression(normalize=True) \n",
    "lm_model.fit(X_train, y_train)"
   ]
  },
  {
   "cell_type": "code",
   "execution_count": 27,
   "metadata": {},
   "outputs": [],
   "source": [
    "# Check regression results and make scatter plots of predicted VS actual dissolved oxygen data  \n",
    "\n",
    "y_train_preds = lm_model.predict(X_train) \n",
    "y_test_preds = lm_model.predict(X_test) "
   ]
  },
  {
   "cell_type": "code",
   "execution_count": 28,
   "metadata": {},
   "outputs": [
    {
     "data": {
      "text/plain": [
       "0.4122900394581742"
      ]
     },
     "execution_count": 28,
     "metadata": {},
     "output_type": "execute_result"
    }
   ],
   "source": [
    "r2_score(y_train, y_train_preds)"
   ]
  },
  {
   "cell_type": "code",
   "execution_count": 29,
   "metadata": {},
   "outputs": [
    {
     "data": {
      "text/plain": [
       "-0.4969958704099007"
      ]
     },
     "execution_count": 29,
     "metadata": {},
     "output_type": "execute_result"
    }
   ],
   "source": [
    "r2_score(y_test, y_test_preds)"
   ]
  },
  {
   "cell_type": "markdown",
   "metadata": {},
   "source": [
    "### Visualize"
   ]
  },
  {
   "cell_type": "code",
   "execution_count": 30,
   "metadata": {},
   "outputs": [
    {
     "data": {
      "text/plain": [
       "Text(9, 10, 'R2 = 0.41')"
      ]
     },
     "execution_count": 30,
     "metadata": {},
     "output_type": "execute_result"
    },
    {
     "data": {
      "image/png": "[encoded data removed]",
      "text/plain": [
       "<Figure size 432x288 with 1 Axes>"
      ]
     },
     "metadata": {
      "needs_background": "light"
     },
     "output_type": "display_data"
    }
   ],
   "source": [
    "plt.scatter(y_train, y_train_preds) \n",
    "plt.xlabel('DO_train')\n",
    "plt.ylabel('DO_train_preds')\n",
    "plt.xlim(0, 12)\n",
    "plt.ylim(0, 12)\n",
    "plt.text(9,10, 'R2 = 0.41')"
   ]
  },
  {
   "cell_type": "code",
   "execution_count": 31,
   "metadata": {},
   "outputs": [
    {
     "data": {
      "text/plain": [
       "Text(9, 10, 'R2 = -0.5')"
      ]
     },
     "execution_count": 31,
     "metadata": {},
     "output_type": "execute_result"
    },
    {
     "data": {
      "image/png": "[encoded data removed]",
      "text/plain": [
       "<Figure size 432x288 with 1 Axes>"
      ]
     },
     "metadata": {
      "needs_background": "light"
     },
     "output_type": "display_data"
    }
   ],
   "source": [
    "plt.scatter(y_test, y_test_preds) \n",
    "plt.xlabel('DO_test')\n",
    "plt.ylabel('DO_test_preds')\n",
    "plt.xlim(0, 12)\n",
    "plt.ylim(0, 12)\n",
    "plt.text(9,10, 'R2 = -0.5')"
   ]
  },
  {
   "cell_type": "markdown",
   "metadata": {},
   "source": [
    "## 5. Evaluation"
   ]
  },
  {
   "cell_type": "code",
   "execution_count": 33,
   "metadata": {},
   "outputs": [],
   "source": [
    "# Check regression model coefficient of each parameter\n",
    "\n",
    "def coef_weights(coefficents, X_train):\n",
    "    '''\n",
    "    INPUT: \n",
    "    coefficients - the coefficients of the linear model\n",
    "    X_train - the training data, so the column names can be used\n",
    "    OUTPUT: \n",
    "    coefs_df - a dataframe holding the coefficient, estimate, and abs(estimate)\n",
    "    \n",
    "    Provides a dataframe that can be used to understand the most influential coefficient\n",
    "    in a linear model by providing the coefficient estimates along with the name of variable\n",
    "    attached to the coefficient. \n",
    "    '''\n",
    "\n",
    "    coefs_df = pd.DataFrame()\n",
    "    coefs_df['est_int'] = X_train.columns\n",
    "    coefs_df['coefs'] = lm_model.coef_\n",
    "    coefs_df['abs_coefs'] = np.abs(lm_model.coef_)\n",
    "    coefs_df = coefs_df.sort_values('abs_coefs', ascending=False)\n",
    "    return coefs_df\n",
    "\n",
    "coefs_df = coef_weights(lm_model.coef_, X_train)\n"
   ]
  },
  {
   "cell_type": "code",
   "execution_count": 34,
   "metadata": {},
   "outputs": [
    {
     "data": {
      "text/html": [
       "<div>\n",
       "<style scoped>\n",
       "    .dataframe tbody tr th:only-of-type {\n",
       "        vertical-align: middle;\n",
       "    }\n",
       "\n",
       "    .dataframe tbody tr th {\n",
       "        vertical-align: top;\n",
       "    }\n",
       "\n",
       "    .dataframe thead th {\n",
       "        text-align: right;\n",
       "    }\n",
       "</style>\n",
       "<table border=\"1\" class=\"dataframe\">\n",
       "  <thead>\n",
       "    <tr style=\"text-align: right;\">\n",
       "      <th></th>\n",
       "      <th>est_int</th>\n",
       "      <th>coefs</th>\n",
       "      <th>abs_coefs</th>\n",
       "    </tr>\n",
       "  </thead>\n",
       "  <tbody>\n",
       "    <tr>\n",
       "      <td>4</td>\n",
       "      <td>result_SALIN</td>\n",
       "      <td>-14.821609</td>\n",
       "      <td>14.821609</td>\n",
       "    </tr>\n",
       "    <tr>\n",
       "      <td>1</td>\n",
       "      <td>result_TP</td>\n",
       "      <td>1.818215</td>\n",
       "      <td>1.818215</td>\n",
       "    </tr>\n",
       "    <tr>\n",
       "      <td>2</td>\n",
       "      <td>result_TN</td>\n",
       "      <td>1.527818</td>\n",
       "      <td>1.527818</td>\n",
       "    </tr>\n",
       "    <tr>\n",
       "      <td>3</td>\n",
       "      <td>result_TEMP</td>\n",
       "      <td>-0.283243</td>\n",
       "      <td>0.283243</td>\n",
       "    </tr>\n",
       "    <tr>\n",
       "      <td>0</td>\n",
       "      <td>result_CHLAC</td>\n",
       "      <td>0.194599</td>\n",
       "      <td>0.194599</td>\n",
       "    </tr>\n",
       "  </tbody>\n",
       "</table>\n",
       "</div>"
      ],
      "text/plain": [
       "        est_int      coefs  abs_coefs\n",
       "4  result_SALIN -14.821609  14.821609\n",
       "1     result_TP   1.818215   1.818215\n",
       "2     result_TN   1.527818   1.527818\n",
       "3   result_TEMP  -0.283243   0.283243\n",
       "0  result_CHLAC   0.194599   0.194599"
      ]
     },
     "execution_count": 34,
     "metadata": {},
     "output_type": "execute_result"
    }
   ],
   "source": [
    "coefs_df"
   ]
  },
  {
   "cell_type": "markdown",
   "metadata": {},
   "source": [
    "### What parameters have great effects on DO in this waterbody?\n",
    "Coefficient table has shown among the 5 independent parameters, salinity, TP and TN have great effects on DO.\n"
   ]
  },
  {
   "cell_type": "markdown",
   "metadata": {},
   "source": [
    "### How do there parameters influence DO?\n",
    "Model results suggest DO concentration decreases with the increase of salinity in the water. Model results also suggest DO concentration increases with the increase of TP and TN in the water. \n"
   ]
  },
  {
   "cell_type": "markdown",
   "metadata": {},
   "source": [
    "### Do the model results make sense?\n",
    "Effect of salinity on DO makes sense, while effect of TN and TP contradict with other reports as discussed in the Medium blog.\n"
   ]
  },
  {
   "cell_type": "markdown",
   "metadata": {},
   "source": [
    "### How to improve model performance to better interpret the relationship between DO and other parameters?\n",
    "Two suggestions:\n",
    "Add more data to build the multiple linear regression model. Authorities need to keep monitoring this waterbody and collect more data to be added to the model.\n",
    "Other non-linear model can be considered, such as regression tree and random forest models."
   ]
  },
  {
   "cell_type": "code",
   "execution_count": null,
   "metadata": {},
   "outputs": [],
   "source": []
  }
 ],
 "metadata": {
  "kernelspec": {
   "display_name": "Python 3",
   "language": "python",
   "name": "python3"
  },
  "language_info": {
   "codemirror_mode": {
    "name": "ipython",
    "version": 3
   },
   "file_extension": ".py",
   "mimetype": "text/x-python",
   "name": "python",
   "nbconvert_exporter": "python",
   "pygments_lexer": "ipython3",
   "version": "3.7.4"
  }
 },
 "nbformat": 4,
 "nbformat_minor": 2
}
