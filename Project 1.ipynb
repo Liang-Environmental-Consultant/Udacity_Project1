{
 "cells": [
  {
   "cell_type": "code",
   "execution_count": 90,
   "metadata": {},
   "outputs": [],
   "source": [
    "import numpy as np\n",
    "import pandas as pd\n",
    "import matplotlib.pyplot as plt\n",
    "from sklearn.linear_model import LinearRegression\n",
    "from sklearn.model_selection import train_test_split\n",
    "from sklearn.metrics import r2_score, mean_squared_error\n",
    "import seaborn as sns\n",
    "%matplotlib inline"
   ]
  },
  {
   "cell_type": "code",
   "execution_count": 91,
   "metadata": {},
   "outputs": [
    {
     "data": {
      "text/html": [
       "<div>\n",
       "<style scoped>\n",
       "    .dataframe tbody tr th:only-of-type {\n",
       "        vertical-align: middle;\n",
       "    }\n",
       "\n",
       "    .dataframe tbody tr th {\n",
       "        vertical-align: top;\n",
       "    }\n",
       "\n",
       "    .dataframe thead th {\n",
       "        text-align: right;\n",
       "    }\n",
       "</style>\n",
       "<table border=\"1\" class=\"dataframe\">\n",
       "  <thead>\n",
       "    <tr style=\"text-align: right;\">\n",
       "      <th></th>\n",
       "      <th>wbid</th>\n",
       "      <th>BODY</th>\n",
       "      <th>rawData_periodOfRecordQuery.class</th>\n",
       "      <th>NAME1</th>\n",
       "      <th>BASIN</th>\n",
       "      <th>sta</th>\n",
       "      <th>LAT</th>\n",
       "      <th>LONG</th>\n",
       "      <th>Year</th>\n",
       "      <th>Month</th>\n",
       "      <th>...</th>\n",
       "      <th>xCode</th>\n",
       "      <th>dUnits2</th>\n",
       "      <th>agency</th>\n",
       "      <th>labName</th>\n",
       "      <th>masterCode2</th>\n",
       "      <th>floridaStandards_forMatching.class</th>\n",
       "      <th>thisCriteria</th>\n",
       "      <th>floridaStandards_forMatching.Units</th>\n",
       "      <th>standardWithUnits</th>\n",
       "      <th>criterionText</th>\n",
       "    </tr>\n",
       "  </thead>\n",
       "  <tbody>\n",
       "    <tr>\n",
       "      <td>0</td>\n",
       "      <td>2189A</td>\n",
       "      <td>STREAM</td>\n",
       "      <td>3F</td>\n",
       "      <td>RUSHING CR. TRIB @ HOLSTEIN DR</td>\n",
       "      <td>RUSHING BRANCH (FRESHWATER SEGMENT)</td>\n",
       "      <td>21FLA   20030603</td>\n",
       "      <td>30.458707</td>\n",
       "      <td>-81.566378</td>\n",
       "      <td>2012</td>\n",
       "      <td>9</td>\n",
       "      <td>...</td>\n",
       "      <td>NaN</td>\n",
       "      <td>m</td>\n",
       "      <td>21FLA</td>\n",
       "      <td>NaN</td>\n",
       "      <td>NaN</td>\n",
       "      <td>NaN</td>\n",
       "      <td>NaN</td>\n",
       "      <td>NaN</td>\n",
       "      <td>NaN</td>\n",
       "      <td>NaN</td>\n",
       "    </tr>\n",
       "    <tr>\n",
       "      <td>1</td>\n",
       "      <td>2189A</td>\n",
       "      <td>STREAM</td>\n",
       "      <td>3F</td>\n",
       "      <td>RUSHING CR. TRIB @ HOLSTEIN DR</td>\n",
       "      <td>RUSHING BRANCH (FRESHWATER SEGMENT)</td>\n",
       "      <td>21FLA   20030603</td>\n",
       "      <td>30.458707</td>\n",
       "      <td>-81.566378</td>\n",
       "      <td>2012</td>\n",
       "      <td>9</td>\n",
       "      <td>...</td>\n",
       "      <td>NaN</td>\n",
       "      <td>m</td>\n",
       "      <td>21FLA</td>\n",
       "      <td>NaN</td>\n",
       "      <td>COND</td>\n",
       "      <td>3F</td>\n",
       "      <td>1275.0</td>\n",
       "      <td>uohm/cm</td>\n",
       "      <td>1275 or &gt;50% Nat. Background</td>\n",
       "      <td>Criterion from the Florida Standards for this ...</td>\n",
       "    </tr>\n",
       "    <tr>\n",
       "      <td>2</td>\n",
       "      <td>2189A</td>\n",
       "      <td>STREAM</td>\n",
       "      <td>3F</td>\n",
       "      <td>RUSHING CR. TRIB @ HOLSTEIN DR</td>\n",
       "      <td>RUSHING BRANCH (FRESHWATER SEGMENT)</td>\n",
       "      <td>21FLA   20030603</td>\n",
       "      <td>30.458707</td>\n",
       "      <td>-81.566378</td>\n",
       "      <td>2012</td>\n",
       "      <td>9</td>\n",
       "      <td>...</td>\n",
       "      <td>NaN</td>\n",
       "      <td>m</td>\n",
       "      <td>21FLA</td>\n",
       "      <td>NaN</td>\n",
       "      <td>NaN</td>\n",
       "      <td>NaN</td>\n",
       "      <td>NaN</td>\n",
       "      <td>NaN</td>\n",
       "      <td>NaN</td>\n",
       "      <td>NaN</td>\n",
       "    </tr>\n",
       "    <tr>\n",
       "      <td>3</td>\n",
       "      <td>2189A</td>\n",
       "      <td>STREAM</td>\n",
       "      <td>3F</td>\n",
       "      <td>RUSHING CR. TRIB @ HOLSTEIN DR</td>\n",
       "      <td>RUSHING BRANCH (FRESHWATER SEGMENT)</td>\n",
       "      <td>21FLA   20030603</td>\n",
       "      <td>30.458707</td>\n",
       "      <td>-81.566378</td>\n",
       "      <td>2012</td>\n",
       "      <td>9</td>\n",
       "      <td>...</td>\n",
       "      <td>NaN</td>\n",
       "      <td>m</td>\n",
       "      <td>21FLA</td>\n",
       "      <td>NaN</td>\n",
       "      <td>NaN</td>\n",
       "      <td>NaN</td>\n",
       "      <td>NaN</td>\n",
       "      <td>NaN</td>\n",
       "      <td>NaN</td>\n",
       "      <td>NaN</td>\n",
       "    </tr>\n",
       "    <tr>\n",
       "      <td>4</td>\n",
       "      <td>2189A</td>\n",
       "      <td>STREAM</td>\n",
       "      <td>3F</td>\n",
       "      <td>RUSHING CR. TRIB @ HOLSTEIN DR</td>\n",
       "      <td>RUSHING BRANCH (FRESHWATER SEGMENT)</td>\n",
       "      <td>21FLA   20030603</td>\n",
       "      <td>30.458707</td>\n",
       "      <td>-81.566378</td>\n",
       "      <td>2012</td>\n",
       "      <td>9</td>\n",
       "      <td>...</td>\n",
       "      <td>B</td>\n",
       "      <td>m</td>\n",
       "      <td>21FLA</td>\n",
       "      <td>Columbia Analytical Services</td>\n",
       "      <td>FCOLI</td>\n",
       "      <td>3F</td>\n",
       "      <td>400.0</td>\n",
       "      <td>100ml</td>\n",
       "      <td>=400 MPN</td>\n",
       "      <td>Criterion from the Florida Standards for this ...</td>\n",
       "    </tr>\n",
       "  </tbody>\n",
       "</table>\n",
       "<p>5 rows × 51 columns</p>\n",
       "</div>"
      ],
      "text/plain": [
       "    wbid    BODY rawData_periodOfRecordQuery.class  \\\n",
       "0  2189A  STREAM                                3F   \n",
       "1  2189A  STREAM                                3F   \n",
       "2  2189A  STREAM                                3F   \n",
       "3  2189A  STREAM                                3F   \n",
       "4  2189A  STREAM                                3F   \n",
       "\n",
       "                            NAME1                                BASIN  \\\n",
       "0  RUSHING CR. TRIB @ HOLSTEIN DR  RUSHING BRANCH (FRESHWATER SEGMENT)   \n",
       "1  RUSHING CR. TRIB @ HOLSTEIN DR  RUSHING BRANCH (FRESHWATER SEGMENT)   \n",
       "2  RUSHING CR. TRIB @ HOLSTEIN DR  RUSHING BRANCH (FRESHWATER SEGMENT)   \n",
       "3  RUSHING CR. TRIB @ HOLSTEIN DR  RUSHING BRANCH (FRESHWATER SEGMENT)   \n",
       "4  RUSHING CR. TRIB @ HOLSTEIN DR  RUSHING BRANCH (FRESHWATER SEGMENT)   \n",
       "\n",
       "                sta        LAT       LONG  Year  Month  ...  xCode  dUnits2  \\\n",
       "0  21FLA   20030603  30.458707 -81.566378  2012      9  ...    NaN        m   \n",
       "1  21FLA   20030603  30.458707 -81.566378  2012      9  ...    NaN        m   \n",
       "2  21FLA   20030603  30.458707 -81.566378  2012      9  ...    NaN        m   \n",
       "3  21FLA   20030603  30.458707 -81.566378  2012      9  ...    NaN        m   \n",
       "4  21FLA   20030603  30.458707 -81.566378  2012      9  ...      B        m   \n",
       "\n",
       "     agency                       labName  masterCode2  \\\n",
       "0  21FLA                              NaN          NaN   \n",
       "1  21FLA                              NaN         COND   \n",
       "2  21FLA                              NaN          NaN   \n",
       "3  21FLA                              NaN          NaN   \n",
       "4  21FLA     Columbia Analytical Services        FCOLI   \n",
       "\n",
       "   floridaStandards_forMatching.class thisCriteria  \\\n",
       "0                                 NaN          NaN   \n",
       "1                                  3F       1275.0   \n",
       "2                                 NaN          NaN   \n",
       "3                                 NaN          NaN   \n",
       "4                                  3F        400.0   \n",
       "\n",
       "  floridaStandards_forMatching.Units             standardWithUnits  \\\n",
       "0                                NaN                           NaN   \n",
       "1                            uohm/cm  1275 or >50% Nat. Background   \n",
       "2                                NaN                           NaN   \n",
       "3                                NaN                           NaN   \n",
       "4                              100ml                      =400 MPN   \n",
       "\n",
       "                                       criterionText  \n",
       "0                                                NaN  \n",
       "1  Criterion from the Florida Standards for this ...  \n",
       "2                                                NaN  \n",
       "3                                                NaN  \n",
       "4  Criterion from the Florida Standards for this ...  \n",
       "\n",
       "[5 rows x 51 columns]"
      ]
     },
     "execution_count": 91,
     "metadata": {},
     "output_type": "execute_result"
    }
   ],
   "source": [
    "# read raw data into python\n",
    "\n",
    "df = pd.read_excel('C:/Users/lilia/Desktop/Udacity/Project_1/Data.xlsx')\n",
    "df.head()"
   ]
  },
  {
   "cell_type": "code",
   "execution_count": 92,
   "metadata": {},
   "outputs": [
    {
     "name": "stdout",
     "output_type": "stream",
     "text": [
      "Index(['wbid', 'BODY', 'rawData_periodOfRecordQuery.class', 'NAME1', 'BASIN',\n",
      "       'sta', 'LAT', 'LONG', 'Year', 'Month', 'Day', 'Time', 'ID', 'depth',\n",
      "       'param', 'result', 'rawData_periodOfRecordQuery.Units', 'rcode', 'lab',\n",
      "       'GROUP_NAME', 'GROUP_NUM', 'PLANUNIT', 'description', 'epa', 'week2',\n",
      "       'season', 'ds', 'Master parameter Code', 'subcategory',\n",
      "       'Master parameter', 'cycle', 'begin_pp', 'end_pp', 'begin_vp', 'end_vp',\n",
      "       'mdl', 'pql', 'staName', 'planPeriod', 'verPeriod', 'assessmentType',\n",
      "       'xCode', 'dUnits2', 'agency', 'labName', 'masterCode2',\n",
      "       'floridaStandards_forMatching.class', 'thisCriteria',\n",
      "       'floridaStandards_forMatching.Units', 'standardWithUnits',\n",
      "       'criterionText'],\n",
      "      dtype='object')\n"
     ]
    }
   ],
   "source": [
    "# Check what columns are there in the dataframe\n",
    "print(df.columns)"
   ]
  },
  {
   "cell_type": "code",
   "execution_count": 93,
   "metadata": {},
   "outputs": [],
   "source": [
    "# Create a dataframe with selected columns\n",
    "\n",
    "dfs = df[df.columns[df.columns.isin(['ID','Year','Month','Day','result','Master parameter'])]]"
   ]
  },
  {
   "cell_type": "code",
   "execution_count": 94,
   "metadata": {},
   "outputs": [],
   "source": [
    "# Create dissolved oxygen (DO), chlorophyll-a (CHLAC), total phosphorus (TP), total nitrogen (TN), \n",
    "# temperature (TEMP), and salinity (SALIN) dataframes\n",
    "\n",
    "dfs_DO = dfs.loc[df['Master parameter Code']== 'DO']"
   ]
  },
  {
   "cell_type": "code",
   "execution_count": 95,
   "metadata": {
    "scrolled": true
   },
   "outputs": [],
   "source": [
    "dfs_CHLAC = dfs.loc[df['Master parameter Code']== 'CHLAC']"
   ]
  },
  {
   "cell_type": "code",
   "execution_count": 96,
   "metadata": {},
   "outputs": [],
   "source": [
    "dfs_TP = dfs.loc[df['Master parameter Code']== 'TP']"
   ]
  },
  {
   "cell_type": "code",
   "execution_count": 97,
   "metadata": {},
   "outputs": [],
   "source": [
    "dfs_TN = dfs.loc[df['Master parameter Code']== 'TN']"
   ]
  },
  {
   "cell_type": "code",
   "execution_count": 114,
   "metadata": {},
   "outputs": [],
   "source": [
    "dfs_TEMP = dfs.loc[df['Master parameter Code']== 'TEMP']"
   ]
  },
  {
   "cell_type": "code",
   "execution_count": 115,
   "metadata": {},
   "outputs": [],
   "source": [
    "dfs_SALIN = dfs.loc[df['Master parameter Code']== 'SALIN']"
   ]
  },
  {
   "cell_type": "code",
   "execution_count": 116,
   "metadata": {},
   "outputs": [],
   "source": [
    "# Join above dataframes together on column \"ID\" and create a new final dataframe: df_final\n",
    "\n",
    "dfs_DO_CHLAC = pd.merge(dfs_DO, dfs_CHLAC, on=['ID','Year','Month','Day'], how='outer', suffixes=('_DO','_CHLAC'))"
   ]
  },
  {
   "cell_type": "code",
   "execution_count": 117,
   "metadata": {},
   "outputs": [],
   "source": [
    "dfs_DO_CHLAC_TP = pd.merge(dfs_DO_CHLAC, dfs_TP, on = ['ID','Year','Month','Day'], how = 'outer')"
   ]
  },
  {
   "cell_type": "code",
   "execution_count": 118,
   "metadata": {},
   "outputs": [],
   "source": [
    "dfs_DO_CHLAC_TP_TN = pd.merge(dfs_DO_CHLAC_TP, dfs_TN, on = ['ID','Year','Month','Day'], how = 'outer', suffixes=('_TP','_TN'))"
   ]
  },
  {
   "cell_type": "code",
   "execution_count": 119,
   "metadata": {},
   "outputs": [],
   "source": [
    "dfs_DO_CHLAC_TP_TN_TEMP = pd.merge(dfs_DO_CHLAC_TP_TN, dfs_TEMP, on = ['ID','Year','Month','Day'], how = 'outer')"
   ]
  },
  {
   "cell_type": "code",
   "execution_count": 120,
   "metadata": {},
   "outputs": [],
   "source": [
    "df_final = pd.merge(dfs_DO_CHLAC_TP_TN_TEMP, dfs_SALIN, on = ['ID','Year','Month','Day'], how = 'outer', suffixes=('_TEMP','_SALIN'))"
   ]
  },
  {
   "cell_type": "code",
   "execution_count": 121,
   "metadata": {},
   "outputs": [
    {
     "ename": "FileCreateError",
     "evalue": "[Errno 13] Permission denied: 'Final.xlsx'",
     "output_type": "error",
     "traceback": [
      "\u001b[1;31m---------------------------------------------------------------------------\u001b[0m",
      "\u001b[1;31mPermissionError\u001b[0m                           Traceback (most recent call last)",
      "\u001b[1;32m~\\Anaconda3\\lib\\site-packages\\xlsxwriter\\workbook.py\u001b[0m in \u001b[0;36mclose\u001b[1;34m(self)\u001b[0m\n\u001b[0;32m    310\u001b[0m             \u001b[1;32mtry\u001b[0m\u001b[1;33m:\u001b[0m\u001b[1;33m\u001b[0m\u001b[1;33m\u001b[0m\u001b[0m\n\u001b[1;32m--> 311\u001b[1;33m                 \u001b[0mself\u001b[0m\u001b[1;33m.\u001b[0m\u001b[0m_store_workbook\u001b[0m\u001b[1;33m(\u001b[0m\u001b[1;33m)\u001b[0m\u001b[1;33m\u001b[0m\u001b[1;33m\u001b[0m\u001b[0m\n\u001b[0m\u001b[0;32m    312\u001b[0m             \u001b[1;32mexcept\u001b[0m \u001b[0mIOError\u001b[0m \u001b[1;32mas\u001b[0m \u001b[0me\u001b[0m\u001b[1;33m:\u001b[0m\u001b[1;33m\u001b[0m\u001b[1;33m\u001b[0m\u001b[0m\n",
      "\u001b[1;32m~\\Anaconda3\\lib\\site-packages\\xlsxwriter\\workbook.py\u001b[0m in \u001b[0;36m_store_workbook\u001b[1;34m(self)\u001b[0m\n\u001b[0;32m    626\u001b[0m         \u001b[1;32mexcept\u001b[0m \u001b[0mIOError\u001b[0m \u001b[1;32mas\u001b[0m \u001b[0me\u001b[0m\u001b[1;33m:\u001b[0m\u001b[1;33m\u001b[0m\u001b[1;33m\u001b[0m\u001b[0m\n\u001b[1;32m--> 627\u001b[1;33m             \u001b[1;32mraise\u001b[0m \u001b[0me\u001b[0m\u001b[1;33m\u001b[0m\u001b[1;33m\u001b[0m\u001b[0m\n\u001b[0m\u001b[0;32m    628\u001b[0m \u001b[1;33m\u001b[0m\u001b[0m\n",
      "\u001b[1;32m~\\Anaconda3\\lib\\site-packages\\xlsxwriter\\workbook.py\u001b[0m in \u001b[0;36m_store_workbook\u001b[1;34m(self)\u001b[0m\n\u001b[0;32m    624\u001b[0m             xlsx_file = ZipFile(self.filename, \"w\", compression=ZIP_DEFLATED,\n\u001b[1;32m--> 625\u001b[1;33m                                 allowZip64=self.allow_zip64)\n\u001b[0m\u001b[0;32m    626\u001b[0m         \u001b[1;32mexcept\u001b[0m \u001b[0mIOError\u001b[0m \u001b[1;32mas\u001b[0m \u001b[0me\u001b[0m\u001b[1;33m:\u001b[0m\u001b[1;33m\u001b[0m\u001b[1;33m\u001b[0m\u001b[0m\n",
      "\u001b[1;32m~\\Anaconda3\\lib\\zipfile.py\u001b[0m in \u001b[0;36m__init__\u001b[1;34m(self, file, mode, compression, allowZip64, compresslevel)\u001b[0m\n\u001b[0;32m   1206\u001b[0m                 \u001b[1;32mtry\u001b[0m\u001b[1;33m:\u001b[0m\u001b[1;33m\u001b[0m\u001b[1;33m\u001b[0m\u001b[0m\n\u001b[1;32m-> 1207\u001b[1;33m                     \u001b[0mself\u001b[0m\u001b[1;33m.\u001b[0m\u001b[0mfp\u001b[0m \u001b[1;33m=\u001b[0m \u001b[0mio\u001b[0m\u001b[1;33m.\u001b[0m\u001b[0mopen\u001b[0m\u001b[1;33m(\u001b[0m\u001b[0mfile\u001b[0m\u001b[1;33m,\u001b[0m \u001b[0mfilemode\u001b[0m\u001b[1;33m)\u001b[0m\u001b[1;33m\u001b[0m\u001b[1;33m\u001b[0m\u001b[0m\n\u001b[0m\u001b[0;32m   1208\u001b[0m                 \u001b[1;32mexcept\u001b[0m \u001b[0mOSError\u001b[0m\u001b[1;33m:\u001b[0m\u001b[1;33m\u001b[0m\u001b[1;33m\u001b[0m\u001b[0m\n",
      "\u001b[1;31mPermissionError\u001b[0m: [Errno 13] Permission denied: 'Final.xlsx'",
      "\nDuring handling of the above exception, another exception occurred:\n",
      "\u001b[1;31mFileCreateError\u001b[0m                           Traceback (most recent call last)",
      "\u001b[1;32m<ipython-input-121-cab62e572187>\u001b[0m in \u001b[0;36m<module>\u001b[1;34m\u001b[0m\n\u001b[1;32m----> 1\u001b[1;33m \u001b[0mdf_final\u001b[0m\u001b[1;33m.\u001b[0m\u001b[0mto_excel\u001b[0m\u001b[1;33m(\u001b[0m\u001b[1;34m\"Final.xlsx\"\u001b[0m\u001b[1;33m)\u001b[0m\u001b[1;33m\u001b[0m\u001b[1;33m\u001b[0m\u001b[0m\n\u001b[0m",
      "\u001b[1;32m~\\Anaconda3\\lib\\site-packages\\pandas\\core\\generic.py\u001b[0m in \u001b[0;36mto_excel\u001b[1;34m(self, excel_writer, sheet_name, na_rep, float_format, columns, header, index, index_label, startrow, startcol, engine, merge_cells, encoding, inf_rep, verbose, freeze_panes)\u001b[0m\n\u001b[0;32m   2254\u001b[0m             \u001b[0mstartcol\u001b[0m\u001b[1;33m=\u001b[0m\u001b[0mstartcol\u001b[0m\u001b[1;33m,\u001b[0m\u001b[1;33m\u001b[0m\u001b[1;33m\u001b[0m\u001b[0m\n\u001b[0;32m   2255\u001b[0m             \u001b[0mfreeze_panes\u001b[0m\u001b[1;33m=\u001b[0m\u001b[0mfreeze_panes\u001b[0m\u001b[1;33m,\u001b[0m\u001b[1;33m\u001b[0m\u001b[1;33m\u001b[0m\u001b[0m\n\u001b[1;32m-> 2256\u001b[1;33m             \u001b[0mengine\u001b[0m\u001b[1;33m=\u001b[0m\u001b[0mengine\u001b[0m\u001b[1;33m,\u001b[0m\u001b[1;33m\u001b[0m\u001b[1;33m\u001b[0m\u001b[0m\n\u001b[0m\u001b[0;32m   2257\u001b[0m         )\n\u001b[0;32m   2258\u001b[0m \u001b[1;33m\u001b[0m\u001b[0m\n",
      "\u001b[1;32m~\\Anaconda3\\lib\\site-packages\\pandas\\io\\formats\\excel.py\u001b[0m in \u001b[0;36mwrite\u001b[1;34m(self, writer, sheet_name, startrow, startcol, freeze_panes, engine)\u001b[0m\n\u001b[0;32m    740\u001b[0m         )\n\u001b[0;32m    741\u001b[0m         \u001b[1;32mif\u001b[0m \u001b[0mneed_save\u001b[0m\u001b[1;33m:\u001b[0m\u001b[1;33m\u001b[0m\u001b[1;33m\u001b[0m\u001b[0m\n\u001b[1;32m--> 742\u001b[1;33m             \u001b[0mwriter\u001b[0m\u001b[1;33m.\u001b[0m\u001b[0msave\u001b[0m\u001b[1;33m(\u001b[0m\u001b[1;33m)\u001b[0m\u001b[1;33m\u001b[0m\u001b[1;33m\u001b[0m\u001b[0m\n\u001b[0m",
      "\u001b[1;32m~\\Anaconda3\\lib\\site-packages\\pandas\\io\\excel\\_xlsxwriter.py\u001b[0m in \u001b[0;36msave\u001b[1;34m(self)\u001b[0m\n\u001b[0;32m    193\u001b[0m         \"\"\"\n\u001b[0;32m    194\u001b[0m \u001b[1;33m\u001b[0m\u001b[0m\n\u001b[1;32m--> 195\u001b[1;33m         \u001b[1;32mreturn\u001b[0m \u001b[0mself\u001b[0m\u001b[1;33m.\u001b[0m\u001b[0mbook\u001b[0m\u001b[1;33m.\u001b[0m\u001b[0mclose\u001b[0m\u001b[1;33m(\u001b[0m\u001b[1;33m)\u001b[0m\u001b[1;33m\u001b[0m\u001b[1;33m\u001b[0m\u001b[0m\n\u001b[0m\u001b[0;32m    196\u001b[0m \u001b[1;33m\u001b[0m\u001b[0m\n\u001b[0;32m    197\u001b[0m     def write_cells(\n",
      "\u001b[1;32m~\\Anaconda3\\lib\\site-packages\\xlsxwriter\\workbook.py\u001b[0m in \u001b[0;36mclose\u001b[1;34m(self)\u001b[0m\n\u001b[0;32m    311\u001b[0m                 \u001b[0mself\u001b[0m\u001b[1;33m.\u001b[0m\u001b[0m_store_workbook\u001b[0m\u001b[1;33m(\u001b[0m\u001b[1;33m)\u001b[0m\u001b[1;33m\u001b[0m\u001b[1;33m\u001b[0m\u001b[0m\n\u001b[0;32m    312\u001b[0m             \u001b[1;32mexcept\u001b[0m \u001b[0mIOError\u001b[0m \u001b[1;32mas\u001b[0m \u001b[0me\u001b[0m\u001b[1;33m:\u001b[0m\u001b[1;33m\u001b[0m\u001b[1;33m\u001b[0m\u001b[0m\n\u001b[1;32m--> 313\u001b[1;33m                 \u001b[1;32mraise\u001b[0m \u001b[0mFileCreateError\u001b[0m\u001b[1;33m(\u001b[0m\u001b[0me\u001b[0m\u001b[1;33m)\u001b[0m\u001b[1;33m\u001b[0m\u001b[1;33m\u001b[0m\u001b[0m\n\u001b[0m\u001b[0;32m    314\u001b[0m             \u001b[1;32mexcept\u001b[0m \u001b[0mLargeZipFile\u001b[0m \u001b[1;32mas\u001b[0m \u001b[0me\u001b[0m\u001b[1;33m:\u001b[0m\u001b[1;33m\u001b[0m\u001b[1;33m\u001b[0m\u001b[0m\n\u001b[0;32m    315\u001b[0m                 raise FileSizeError(\"Filesize would require ZIP64 extensions. \"\n",
      "\u001b[1;31mFileCreateError\u001b[0m: [Errno 13] Permission denied: 'Final.xlsx'"
     ]
    }
   ],
   "source": [
    "df_final.to_excel(\"Final.xlsx\")"
   ]
  },
  {
   "cell_type": "code",
   "execution_count": 122,
   "metadata": {},
   "outputs": [],
   "source": [
    "# Clean final dataframe: replace NA with mean value for the numeric columns\n",
    "\n",
    "df = df_final.dropna(subset=['result_DO'], axis=0)\n",
    "y=df['result_DO']"
   ]
  },
  {
   "cell_type": "code",
   "execution_count": 123,
   "metadata": {},
   "outputs": [
    {
     "name": "stderr",
     "output_type": "stream",
     "text": [
      "C:\\Users\\lilia\\Anaconda3\\lib\\site-packages\\pandas\\core\\generic.py:6287: SettingWithCopyWarning: \n",
      "A value is trying to be set on a copy of a slice from a DataFrame\n",
      "\n",
      "See the caveats in the documentation: http://pandas.pydata.org/pandas-docs/stable/user_guide/indexing.html#returning-a-view-versus-a-copy\n",
      "  self._update_inplace(new_data)\n"
     ]
    }
   ],
   "source": [
    "num_vars = df.select_dtypes(include=['float', 'int']).columns\n",
    "for col in num_vars:\n",
    "    df[col].fillna((df[col].mean()), inplace=True)"
   ]
  },
  {
   "cell_type": "code",
   "execution_count": 124,
   "metadata": {},
   "outputs": [],
   "source": [
    "# Build a multiple linear regression model\n",
    "\n",
    "X = df[['result_CHLAC', 'result_TP', 'result_TN', 'result_TEMP', 'result_SALIN']]\n",
    "y = df['result_DO']"
   ]
  },
  {
   "cell_type": "code",
   "execution_count": 125,
   "metadata": {},
   "outputs": [
    {
     "data": {
      "text/plain": [
       "LinearRegression(copy_X=True, fit_intercept=True, n_jobs=None, normalize=True)"
      ]
     },
     "execution_count": 125,
     "metadata": {},
     "output_type": "execute_result"
    }
   ],
   "source": [
    "X_train, X_test, y_train, y_test = train_test_split(X, y, test_size = .30, random_state=42) \n",
    "lm_model = LinearRegression(normalize=True) \n",
    "lm_model.fit(X_train, y_train)"
   ]
  },
  {
   "cell_type": "code",
   "execution_count": 126,
   "metadata": {},
   "outputs": [],
   "source": [
    "# Check regression results and make scatter plots of predicted VS actual dissolved oxygen data  \n",
    "\n",
    "y_train_preds = lm_model.predict(X_train) \n",
    "y_test_preds = lm_model.predict(X_test) "
   ]
  },
  {
   "cell_type": "code",
   "execution_count": 131,
   "metadata": {},
   "outputs": [
    {
     "data": {
      "text/plain": [
       "0.4122900394581742"
      ]
     },
     "execution_count": 131,
     "metadata": {},
     "output_type": "execute_result"
    }
   ],
   "source": [
    "r2_score(y_train, y_train_preds)"
   ]
  },
  {
   "cell_type": "code",
   "execution_count": 132,
   "metadata": {},
   "outputs": [
    {
     "data": {
      "text/plain": [
       "-0.4969958704099007"
      ]
     },
     "execution_count": 132,
     "metadata": {},
     "output_type": "execute_result"
    }
   ],
   "source": [
    "r2_score(y_test, y_test_preds)"
   ]
  },
  {
   "cell_type": "code",
   "execution_count": 86,
   "metadata": {},
   "outputs": [
    {
     "data": {
      "text/plain": [
       "Text(9, 10, 'R2 = 0.41')"
      ]
     },
     "execution_count": 86,
     "metadata": {},
     "output_type": "execute_result"
    },
    {
     "data": {
      "image/png": "[encoded data removed]",
      "text/plain": [
       "<Figure size 432x288 with 1 Axes>"
      ]
     },
     "metadata": {
      "needs_background": "light"
     },
     "output_type": "display_data"
    }
   ],
   "source": [
    "plt.scatter(y_train, y_train_preds) \n",
    "plt.xlabel('DO_train')\n",
    "plt.ylabel('DO_train_preds')\n",
    "plt.xlim(0, 12)\n",
    "plt.ylim(0, 12)\n",
    "plt.text(9,10, 'R2 = 0.41')"
   ]
  },
  {
   "cell_type": "code",
   "execution_count": 89,
   "metadata": {},
   "outputs": [
    {
     "data": {
      "text/plain": [
       "Text(9, 10, 'R2 = -0.5')"
      ]
     },
     "execution_count": 89,
     "metadata": {},
     "output_type": "execute_result"
    },
    {
     "data": {
      "image/png": "[encoded data removed]",
      "text/plain": [
       "<Figure size 432x288 with 1 Axes>"
      ]
     },
     "metadata": {
      "needs_background": "light"
     },
     "output_type": "display_data"
    }
   ],
   "source": [
    "plt.scatter(y_test, y_test_preds) \n",
    "plt.xlabel('DO_test')\n",
    "plt.ylabel('DO_test_preds')\n",
    "plt.xlim(0, 12)\n",
    "plt.ylim(0, 12)\n",
    "plt.text(9,10, 'R2 = -0.5')"
   ]
  },
  {
   "cell_type": "code",
   "execution_count": 74,
   "metadata": {},
   "outputs": [],
   "source": [
    "# Check regression model coefficient of each parameter\n",
    "\n",
    "coefs_df = pd.DataFrame()\n",
    "coefs_df['est_int'] = X_train.columns\n",
    "coefs_df['coefs'] = lm_model.coef_\n",
    "coefs_df['abs_coefs'] = np.abs(lm_model.coef_)\n",
    "coefs_df = coefs_df.sort_values('abs_coefs', ascending=False)"
   ]
  },
  {
   "cell_type": "code",
   "execution_count": 75,
   "metadata": {},
   "outputs": [
    {
     "data": {
      "text/html": [
       "<div>\n",
       "<style scoped>\n",
       "    .dataframe tbody tr th:only-of-type {\n",
       "        vertical-align: middle;\n",
       "    }\n",
       "\n",
       "    .dataframe tbody tr th {\n",
       "        vertical-align: top;\n",
       "    }\n",
       "\n",
       "    .dataframe thead th {\n",
       "        text-align: right;\n",
       "    }\n",
       "</style>\n",
       "<table border=\"1\" class=\"dataframe\">\n",
       "  <thead>\n",
       "    <tr style=\"text-align: right;\">\n",
       "      <th></th>\n",
       "      <th>est_int</th>\n",
       "      <th>coefs</th>\n",
       "      <th>abs_coefs</th>\n",
       "    </tr>\n",
       "  </thead>\n",
       "  <tbody>\n",
       "    <tr>\n",
       "      <td>4</td>\n",
       "      <td>result_SALIN</td>\n",
       "      <td>-14.821609</td>\n",
       "      <td>14.821609</td>\n",
       "    </tr>\n",
       "    <tr>\n",
       "      <td>1</td>\n",
       "      <td>result_TP</td>\n",
       "      <td>1.818215</td>\n",
       "      <td>1.818215</td>\n",
       "    </tr>\n",
       "    <tr>\n",
       "      <td>2</td>\n",
       "      <td>result_TN</td>\n",
       "      <td>1.527818</td>\n",
       "      <td>1.527818</td>\n",
       "    </tr>\n",
       "    <tr>\n",
       "      <td>3</td>\n",
       "      <td>result_TEMP</td>\n",
       "      <td>-0.283243</td>\n",
       "      <td>0.283243</td>\n",
       "    </tr>\n",
       "    <tr>\n",
       "      <td>0</td>\n",
       "      <td>result_CHLAC</td>\n",
       "      <td>0.194599</td>\n",
       "      <td>0.194599</td>\n",
       "    </tr>\n",
       "  </tbody>\n",
       "</table>\n",
       "</div>"
      ],
      "text/plain": [
       "        est_int      coefs  abs_coefs\n",
       "4  result_SALIN -14.821609  14.821609\n",
       "1     result_TP   1.818215   1.818215\n",
       "2     result_TN   1.527818   1.527818\n",
       "3   result_TEMP  -0.283243   0.283243\n",
       "0  result_CHLAC   0.194599   0.194599"
      ]
     },
     "execution_count": 75,
     "metadata": {},
     "output_type": "execute_result"
    }
   ],
   "source": [
    "coefs_df"
   ]
  },
  {
   "cell_type": "code",
   "execution_count": null,
   "metadata": {},
   "outputs": [],
   "source": []
  }
 ],
 "metadata": {
  "kernelspec": {
   "display_name": "Python 3",
   "language": "python",
   "name": "python3"
  },
  "language_info": {
   "codemirror_mode": {
    "name": "ipython",
    "version": 3
   },
   "file_extension": ".py",
   "mimetype": "text/x-python",
   "name": "python",
   "nbconvert_exporter": "python",
   "pygments_lexer": "ipython3",
   "version": "3.7.4"
  }
 },
 "nbformat": 4,
 "nbformat_minor": 2
}
